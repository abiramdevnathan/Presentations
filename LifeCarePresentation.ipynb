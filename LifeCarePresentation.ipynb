{
 "cells": [
  {
   "cell_type": "markdown",
   "metadata": {},
   "source": [
    "# LifCare Case Study Presentation"
   ]
  },
  {
   "cell_type": "raw",
   "metadata": {},
   "source": [
    "The work was executed in Jupyter notebook using SQL in R"
   ]
  },
  {
   "cell_type": "code",
   "execution_count": 2,
   "metadata": {},
   "outputs": [],
   "source": [
    "library(sqldf)\n",
    "library(lubridate)\n",
    "library(ggplot2)"
   ]
  },
  {
   "cell_type": "code",
   "execution_count": 3,
   "metadata": {},
   "outputs": [],
   "source": [
    "order1<-read.csv(\"order.csv\")\n",
    "customer<-read.csv(\"customer.csv\")"
   ]
  },
  {
   "cell_type": "code",
   "execution_count": 6,
   "metadata": {},
   "outputs": [],
   "source": [
    "#Data preparation\n",
    "order1$ORDER_TOTAL<-as.numeric(as.character(order1$ORDER_TOTAL))\n",
    "order1$ORDER_DATE<-as.Date(order1$ORDER_DATE, \"%m / %d / %Y\")"
   ]
  },
  {
   "cell_type": "markdown",
   "metadata": {},
   "source": [
    "## Q. 1 Are there any data anomaly in the order and customer data. If yes, please list them down"
   ]
  },
  {
   "cell_type": "code",
   "execution_count": 8,
   "metadata": {},
   "outputs": [
    {
     "data": {
      "text/html": [
       "<table>\n",
       "<thead><tr><th scope=col>CONTACT_NUMBER</th></tr></thead>\n",
       "<tbody>\n",
       "\t<tr><td>99387789901</td></tr>\n",
       "\t<tr><td> 9999671883</td></tr>\n",
       "\t<tr><td> 9999671883</td></tr>\n",
       "\t<tr><td> 9999608892</td></tr>\n",
       "\t<tr><td> 9999608892</td></tr>\n",
       "\t<tr><td> 9999596298</td></tr>\n",
       "\t<tr><td> 9999529732</td></tr>\n",
       "\t<tr><td> 9999510118</td></tr>\n",
       "\t<tr><td> 9999510118</td></tr>\n",
       "\t<tr><td> 9999510118</td></tr>\n",
       "</tbody>\n",
       "</table>\n"
      ],
      "text/latex": [
       "\\begin{tabular}{r|l}\n",
       " CONTACT\\_NUMBER\\\\\n",
       "\\hline\n",
       "\t 99387789901\\\\\n",
       "\t  9999671883\\\\\n",
       "\t  9999671883\\\\\n",
       "\t  9999608892\\\\\n",
       "\t  9999608892\\\\\n",
       "\t  9999596298\\\\\n",
       "\t  9999529732\\\\\n",
       "\t  9999510118\\\\\n",
       "\t  9999510118\\\\\n",
       "\t  9999510118\\\\\n",
       "\\end{tabular}\n"
      ],
      "text/markdown": [
       "\n",
       "CONTACT_NUMBER | \n",
       "|---|---|---|---|---|---|---|---|---|---|\n",
       "| 99387789901 | \n",
       "|  9999671883 | \n",
       "|  9999671883 | \n",
       "|  9999608892 | \n",
       "|  9999608892 | \n",
       "|  9999596298 | \n",
       "|  9999529732 | \n",
       "|  9999510118 | \n",
       "|  9999510118 | \n",
       "|  9999510118 | \n",
       "\n",
       "\n"
      ],
      "text/plain": [
       "   CONTACT_NUMBER\n",
       "1  99387789901   \n",
       "2   9999671883   \n",
       "3   9999671883   \n",
       "4   9999608892   \n",
       "5   9999608892   \n",
       "6   9999596298   \n",
       "7   9999529732   \n",
       "8   9999510118   \n",
       "9   9999510118   \n",
       "10  9999510118   "
      ]
     },
     "metadata": {},
     "output_type": "display_data"
    },
    {
     "data": {
      "text/html": [
       "<table>\n",
       "<thead><tr><th scope=col>CUSTOMER_ID</th><th scope=col>CUSTOMER_KEY</th><th scope=col>CONTACT_NUMBER</th><th scope=col>Referred.Other.customers</th></tr></thead>\n",
       "<tbody>\n",
       "\t<tr><td>12         </td><td>C100008    </td><td>99387789901</td><td>Y          </td></tr>\n",
       "</tbody>\n",
       "</table>\n"
      ],
      "text/latex": [
       "\\begin{tabular}{r|llll}\n",
       " CUSTOMER\\_ID & CUSTOMER\\_KEY & CONTACT\\_NUMBER & Referred.Other.customers\\\\\n",
       "\\hline\n",
       "\t 12          & C100008     & 99387789901 & Y          \\\\\n",
       "\\end{tabular}\n"
      ],
      "text/markdown": [
       "\n",
       "CUSTOMER_ID | CUSTOMER_KEY | CONTACT_NUMBER | Referred.Other.customers | \n",
       "|---|\n",
       "| 12          | C100008     | 99387789901 | Y           | \n",
       "\n",
       "\n"
      ],
      "text/plain": [
       "  CUSTOMER_ID CUSTOMER_KEY CONTACT_NUMBER Referred.Other.customers\n",
       "1 12          C100008      99387789901    Y                       "
      ]
     },
     "metadata": {},
     "output_type": "display_data"
    },
    {
     "name": "stdout",
     "output_type": "stream",
     "text": [
      "[1] \"Customer id 12 is an outlier\"\n"
     ]
    }
   ],
   "source": [
    "#Outlier in customer table\n",
    "head(sqldf(\"select CONTACT_NUMBER from customer order by CONTACT_NUMBER desc\"),10)\n",
    "sqldf(\"select * from customer where CONTACT_NUMBER=99387789901\")\n",
    "print(\"Customer id 12 is an outlier\")"
   ]
  },
  {
   "cell_type": "code",
   "execution_count": 10,
   "metadata": {},
   "outputs": [
    {
     "data": {
      "text/html": [
       "<table>\n",
       "<thead><tr><th scope=col>ORDER_TOTAL</th></tr></thead>\n",
       "<tbody>\n",
       "\t<tr><td>64130.38</td></tr>\n",
       "\t<tr><td>51637.50</td></tr>\n",
       "\t<tr><td>25389.50</td></tr>\n",
       "\t<tr><td>25075.00</td></tr>\n",
       "\t<tr><td>25075.00</td></tr>\n",
       "\t<tr><td>20967.00</td></tr>\n",
       "\t<tr><td>20034.50</td></tr>\n",
       "\t<tr><td>19890.14</td></tr>\n",
       "\t<tr><td>18436.50</td></tr>\n",
       "\t<tr><td>18436.50</td></tr>\n",
       "</tbody>\n",
       "</table>\n"
      ],
      "text/latex": [
       "\\begin{tabular}{r|l}\n",
       " ORDER\\_TOTAL\\\\\n",
       "\\hline\n",
       "\t 64130.38\\\\\n",
       "\t 51637.50\\\\\n",
       "\t 25389.50\\\\\n",
       "\t 25075.00\\\\\n",
       "\t 25075.00\\\\\n",
       "\t 20967.00\\\\\n",
       "\t 20034.50\\\\\n",
       "\t 19890.14\\\\\n",
       "\t 18436.50\\\\\n",
       "\t 18436.50\\\\\n",
       "\\end{tabular}\n"
      ],
      "text/markdown": [
       "\n",
       "ORDER_TOTAL | \n",
       "|---|---|---|---|---|---|---|---|---|---|\n",
       "| 64130.38 | \n",
       "| 51637.50 | \n",
       "| 25389.50 | \n",
       "| 25075.00 | \n",
       "| 25075.00 | \n",
       "| 20967.00 | \n",
       "| 20034.50 | \n",
       "| 19890.14 | \n",
       "| 18436.50 | \n",
       "| 18436.50 | \n",
       "\n",
       "\n"
      ],
      "text/plain": [
       "   ORDER_TOTAL\n",
       "1  64130.38   \n",
       "2  51637.50   \n",
       "3  25389.50   \n",
       "4  25075.00   \n",
       "5  25075.00   \n",
       "6  20967.00   \n",
       "7  20034.50   \n",
       "8  19890.14   \n",
       "9  18436.50   \n",
       "10 18436.50   "
      ]
     },
     "metadata": {},
     "output_type": "display_data"
    },
    {
     "data": {
      "text/html": [
       "<table>\n",
       "<thead><tr><th scope=col>ORDER_NUMBER</th><th scope=col>CUSTOMER_KEY</th><th scope=col>ORDER_TOTAL</th><th scope=col>DISCOUNT</th><th scope=col>ORDER_DATE</th><th scope=col>ORDER_STATUS</th><th scope=col>DELIVERY_STATUS</th></tr></thead>\n",
       "<tbody>\n",
       "\t<tr><td>O101626   </td><td>C100213   </td><td>64130.38  </td><td>0         </td><td>2016-06-06</td><td>Delivered </td><td>LATE      </td></tr>\n",
       "\t<tr><td>O119258   </td><td>C15598    </td><td>51637.50  </td><td>0         </td><td>2016-06-06</td><td>Delivered </td><td>ON-TIME   </td></tr>\n",
       "</tbody>\n",
       "</table>\n"
      ],
      "text/latex": [
       "\\begin{tabular}{r|lllllll}\n",
       " ORDER\\_NUMBER & CUSTOMER\\_KEY & ORDER\\_TOTAL & DISCOUNT & ORDER\\_DATE & ORDER\\_STATUS & DELIVERY\\_STATUS\\\\\n",
       "\\hline\n",
       "\t O101626    & C100213    & 64130.38   & 0          & 2016-06-06 & Delivered  & LATE      \\\\\n",
       "\t O119258    & C15598     & 51637.50   & 0          & 2016-06-06 & Delivered  & ON-TIME   \\\\\n",
       "\\end{tabular}\n"
      ],
      "text/markdown": [
       "\n",
       "ORDER_NUMBER | CUSTOMER_KEY | ORDER_TOTAL | DISCOUNT | ORDER_DATE | ORDER_STATUS | DELIVERY_STATUS | \n",
       "|---|---|\n",
       "| O101626    | C100213    | 64130.38   | 0          | 2016-06-06 | Delivered  | LATE       | \n",
       "| O119258    | C15598     | 51637.50   | 0          | 2016-06-06 | Delivered  | ON-TIME    | \n",
       "\n",
       "\n"
      ],
      "text/plain": [
       "  ORDER_NUMBER CUSTOMER_KEY ORDER_TOTAL DISCOUNT ORDER_DATE ORDER_STATUS\n",
       "1 O101626      C100213      64130.38    0        2016-06-06 Delivered   \n",
       "2 O119258      C15598       51637.50    0        2016-06-06 Delivered   \n",
       "  DELIVERY_STATUS\n",
       "1 LATE           \n",
       "2 ON-TIME        "
      ]
     },
     "metadata": {},
     "output_type": "display_data"
    },
    {
     "name": "stdout",
     "output_type": "stream",
     "text": [
      "[1] \"The above 2 ORDER_TOTAL are extreme values\"\n"
     ]
    }
   ],
   "source": [
    "#Extreme value in  order table\n",
    "head(sqldf(\"select ORDER_TOTAL from order1 order by ORDER_TOTAL desc\"),10)\n",
    "sqldf(\"select * from order1 where ORDER_TOTAL in (64130.38,51637.50)\")\n",
    "print(\"The above 2 ORDER_TOTAL are extreme values\")"
   ]
  },
  {
   "cell_type": "markdown",
   "metadata": {},
   "source": [
    "## Q. 2 Total orders placed by top 20 customers (based on order value)"
   ]
  },
  {
   "cell_type": "code",
   "execution_count": 12,
   "metadata": {},
   "outputs": [
    {
     "data": {
      "text/html": [
       "<table>\n",
       "<thead><tr><th scope=col>Total_orders_placed</th></tr></thead>\n",
       "<tbody>\n",
       "\t<tr><td>299</td></tr>\n",
       "</tbody>\n",
       "</table>\n"
      ],
      "text/latex": [
       "\\begin{tabular}{r|l}\n",
       " Total\\_orders\\_placed\\\\\n",
       "\\hline\n",
       "\t 299\\\\\n",
       "\\end{tabular}\n"
      ],
      "text/markdown": [
       "\n",
       "Total_orders_placed | \n",
       "|---|\n",
       "| 299 | \n",
       "\n",
       "\n"
      ],
      "text/plain": [
       "  Total_orders_placed\n",
       "1 299                "
      ]
     },
     "metadata": {},
     "output_type": "display_data"
    }
   ],
   "source": [
    "result1<-sqldf(\"SELECT CUSTOMER_KEY, sum(ORDER_TOTAL) FROM order1 GROUP BY CUSTOMER_KEY ORDER BY sum(ORDER_TOTAL) DESC LIMIT 20;\")\n",
    "result2<-sqldf(\"sELECT COUNT(*) as Total_orders_placed FROM order1 WHERE CUSTOMER_KEY IN (SELECT CUSTOMER_KEY FROM result1);\")\n",
    "result2"
   ]
  },
  {
   "cell_type": "markdown",
   "metadata": {},
   "source": [
    "## Q. 3 Month-wise split of total order value of the top 50 customers (The top 50 customers need to identified based on their total order value)"
   ]
  },
  {
   "cell_type": "code",
   "execution_count": 42,
   "metadata": {},
   "outputs": [
    {
     "data": {
      "text/html": [
       "<table>\n",
       "<thead><tr><th scope=col>Month</th><th scope=col>ORDER_TOTAL</th></tr></thead>\n",
       "<tbody>\n",
       "\t<tr><td>January  </td><td> 40712.79</td></tr>\n",
       "\t<tr><td>February </td><td>107039.81</td></tr>\n",
       "\t<tr><td>March    </td><td>271574.64</td></tr>\n",
       "\t<tr><td>April    </td><td>206963.96</td></tr>\n",
       "\t<tr><td>May      </td><td>257017.85</td></tr>\n",
       "\t<tr><td>June     </td><td>479944.09</td></tr>\n",
       "\t<tr><td>July     </td><td>205443.27</td></tr>\n",
       "\t<tr><td>November </td><td> 20974.73</td></tr>\n",
       "\t<tr><td>December </td><td> 67163.48</td></tr>\n",
       "</tbody>\n",
       "</table>\n"
      ],
      "text/latex": [
       "\\begin{tabular}{r|ll}\n",
       " Month & ORDER\\_TOTAL\\\\\n",
       "\\hline\n",
       "\t January   &  40712.79\\\\\n",
       "\t February  & 107039.81\\\\\n",
       "\t March     & 271574.64\\\\\n",
       "\t April     & 206963.96\\\\\n",
       "\t May       & 257017.85\\\\\n",
       "\t June      & 479944.09\\\\\n",
       "\t July      & 205443.27\\\\\n",
       "\t November  &  20974.73\\\\\n",
       "\t December  &  67163.48\\\\\n",
       "\\end{tabular}\n"
      ],
      "text/markdown": [
       "\n",
       "Month | ORDER_TOTAL | \n",
       "|---|---|---|---|---|---|---|---|---|\n",
       "| January   |  40712.79 | \n",
       "| February  | 107039.81 | \n",
       "| March     | 271574.64 | \n",
       "| April     | 206963.96 | \n",
       "| May       | 257017.85 | \n",
       "| June      | 479944.09 | \n",
       "| July      | 205443.27 | \n",
       "| November  |  20974.73 | \n",
       "| December  |  67163.48 | \n",
       "\n",
       "\n"
      ],
      "text/plain": [
       "  Month    ORDER_TOTAL\n",
       "1 January   40712.79  \n",
       "2 February 107039.81  \n",
       "3 March    271574.64  \n",
       "4 April    206963.96  \n",
       "5 May      257017.85  \n",
       "6 June     479944.09  \n",
       "7 July     205443.27  \n",
       "8 November  20974.73  \n",
       "9 December  67163.48  "
      ]
     },
     "metadata": {},
     "output_type": "display_data"
    }
   ],
   "source": [
    "order1$Month<-months(order1$ORDER_DATE)\n",
    "order1$Monthno<-month(order1$ORDER_DATE)\n",
    "\n",
    "result1<-sqldf(\"SELECT CUSTOMER_KEY, SUM(ORDER_TOTAL) FROM order1 GROUP BY CUSTOMER_KEY ORDER BY SUM(ORDER_TOTAL) DESC LIMIT 50;\")\n",
    "result2<-sqldf(\"SELECT Month, Monthno, SUM(ORDER_TOTAL) as ORDER_TOTAL FROM order1 WHERE CUSTOMER_KEY IN (SELECT CUSTOMER_KEY FROM result1) GROUP BY Month order by Monthno\")\n",
    "\n",
    "result2$Month<-factor(result2$Month, levels=result2[order(result2$Monthno),1])\n",
    "\n",
    "result2[,-2]"
   ]
  },
  {
   "cell_type": "code",
   "execution_count": 14,
   "metadata": {},
   "outputs": [
    {
     "data": {},
     "metadata": {},
     "output_type": "display_data"
    },
    {
     "data": {
      "image/png": "[encoded data removed]",
      "text/plain": [
       "plot without title"
      ]
     },
     "metadata": {},
     "output_type": "display_data"
    }
   ],
   "source": [
    "p<-ggplot(data = result2,aes(x=Month, y=ORDER_TOTAL))\n",
    "p+geom_bar(stat=\"identity\",colour=\"black\", fill = \"magenta\")"
   ]
  },
  {
   "cell_type": "markdown",
   "metadata": {},
   "source": [
    "## Q. 4 Plot of month-on-month growth in order count and revenue (from Nov’15 to July’16)"
   ]
  },
  {
   "cell_type": "code",
   "execution_count": 38,
   "metadata": {},
   "outputs": [],
   "source": [
    "order1$Year<-year(order1$ORDER_DATE)\n",
    "order1$Month<-months(order1$ORDER_DATE)\n",
    "order1$Month<-as.factor(order1$Month)\n",
    "order1$Month<-factor(order1$Month,levels = unique(order1[order(order1$Monthno),8]))"
   ]
  },
  {
   "cell_type": "code",
   "execution_count": 39,
   "metadata": {},
   "outputs": [],
   "source": [
    "order2<-order1\n",
    "order2<-order2[order(order2$Year,order2$Monthno),]\n",
    "order2$MY<-paste(order2$Month,order2$Year)\n",
    "order2$MY<-as.factor(order2$MY)\n",
    "order2$MY<-factor(order2$MY,levels=rev(unique(order2$MY)))"
   ]
  },
  {
   "cell_type": "code",
   "execution_count": 40,
   "metadata": {},
   "outputs": [
    {
     "data": {
      "text/html": [
       "<table>\n",
       "<thead><tr><th scope=col>MY</th><th scope=col>COUNT</th></tr></thead>\n",
       "<tbody>\n",
       "\t<tr><td>November 2015</td><td> 751         </td></tr>\n",
       "\t<tr><td>December 2015</td><td>1105         </td></tr>\n",
       "\t<tr><td>January 2016 </td><td>1460         </td></tr>\n",
       "\t<tr><td>February 2016</td><td>2410         </td></tr>\n",
       "\t<tr><td>March 2016   </td><td>2530         </td></tr>\n",
       "\t<tr><td>April 2016   </td><td>3624         </td></tr>\n",
       "\t<tr><td>May 2016     </td><td>4710         </td></tr>\n",
       "\t<tr><td>June 2016    </td><td>7785         </td></tr>\n",
       "\t<tr><td>July 2016    </td><td>5241         </td></tr>\n",
       "</tbody>\n",
       "</table>\n"
      ],
      "text/latex": [
       "\\begin{tabular}{r|ll}\n",
       " MY & COUNT\\\\\n",
       "\\hline\n",
       "\t November 2015 &  751         \\\\\n",
       "\t December 2015 & 1105         \\\\\n",
       "\t January 2016  & 1460         \\\\\n",
       "\t February 2016 & 2410         \\\\\n",
       "\t March 2016    & 2530         \\\\\n",
       "\t April 2016    & 3624         \\\\\n",
       "\t May 2016      & 4710         \\\\\n",
       "\t June 2016     & 7785         \\\\\n",
       "\t July 2016     & 5241         \\\\\n",
       "\\end{tabular}\n"
      ],
      "text/markdown": [
       "\n",
       "MY | COUNT | \n",
       "|---|---|---|---|---|---|---|---|---|\n",
       "| November 2015 |  751          | \n",
       "| December 2015 | 1105          | \n",
       "| January 2016  | 1460          | \n",
       "| February 2016 | 2410          | \n",
       "| March 2016    | 2530          | \n",
       "| April 2016    | 3624          | \n",
       "| May 2016      | 4710          | \n",
       "| June 2016     | 7785          | \n",
       "| July 2016     | 5241          | \n",
       "\n",
       "\n"
      ],
      "text/plain": [
       "  MY            COUNT\n",
       "1 November 2015  751 \n",
       "2 December 2015 1105 \n",
       "3 January 2016  1460 \n",
       "4 February 2016 2410 \n",
       "5 March 2016    2530 \n",
       "6 April 2016    3624 \n",
       "7 May 2016      4710 \n",
       "8 June 2016     7785 \n",
       "9 July 2016     5241 "
      ]
     },
     "metadata": {},
     "output_type": "display_data"
    },
    {
     "data": {},
     "metadata": {},
     "output_type": "display_data"
    },
    {
     "data": {
      "image/png": "[encoded data removed]",
      "text/plain": [
       "plot without title"
      ]
     },
     "metadata": {},
     "output_type": "display_data"
    }
   ],
   "source": [
    "result1<-sqldf(\"select MY, count(*) as COUNT from order2 group by MY order by Year, Monthno\")\n",
    "result1\n",
    "p<-ggplot(data = result1,aes(x=MY,y=COUNT))\n",
    "p+geom_bar(stat=\"identity\", colour=\"white\", fill=\"red\")+coord_flip()"
   ]
  },
  {
   "cell_type": "markdown",
   "metadata": {},
   "source": [
    "## Q. 5  Month-wise split of new and repeat customers"
   ]
  },
  {
   "cell_type": "code",
   "execution_count": 19,
   "metadata": {},
   "outputs": [],
   "source": [
    "order2<-order1\n",
    "order2<-order2[order(order2$Monthno),]"
   ]
  },
  {
   "cell_type": "markdown",
   "metadata": {},
   "source": [
    "#### For Repeat Customer"
   ]
  },
  {
   "cell_type": "code",
   "execution_count": 34,
   "metadata": {},
   "outputs": [
    {
     "data": {
      "text/html": [
       "<table>\n",
       "<thead><tr><th scope=col>Month</th><th scope=col>COUNT</th></tr></thead>\n",
       "<tbody>\n",
       "\t<tr><td>January </td><td>1284    </td></tr>\n",
       "\t<tr><td>February</td><td>2099    </td></tr>\n",
       "\t<tr><td>March   </td><td>2206    </td></tr>\n",
       "\t<tr><td>April   </td><td>2925    </td></tr>\n",
       "\t<tr><td>May     </td><td>3963    </td></tr>\n",
       "\t<tr><td>June    </td><td>6076    </td></tr>\n",
       "\t<tr><td>July    </td><td>3792    </td></tr>\n",
       "\t<tr><td>November</td><td> 736    </td></tr>\n",
       "\t<tr><td>December</td><td>1044    </td></tr>\n",
       "</tbody>\n",
       "</table>\n"
      ],
      "text/latex": [
       "\\begin{tabular}{r|ll}\n",
       " Month & COUNT\\\\\n",
       "\\hline\n",
       "\t January  & 1284    \\\\\n",
       "\t February & 2099    \\\\\n",
       "\t March    & 2206    \\\\\n",
       "\t April    & 2925    \\\\\n",
       "\t May      & 3963    \\\\\n",
       "\t June     & 6076    \\\\\n",
       "\t July     & 3792    \\\\\n",
       "\t November &  736    \\\\\n",
       "\t December & 1044    \\\\\n",
       "\\end{tabular}\n"
      ],
      "text/markdown": [
       "\n",
       "Month | COUNT | \n",
       "|---|---|---|---|---|---|---|---|---|\n",
       "| January  | 1284     | \n",
       "| February | 2099     | \n",
       "| March    | 2206     | \n",
       "| April    | 2925     | \n",
       "| May      | 3963     | \n",
       "| June     | 6076     | \n",
       "| July     | 3792     | \n",
       "| November |  736     | \n",
       "| December | 1044     | \n",
       "\n",
       "\n"
      ],
      "text/plain": [
       "  Month    COUNT\n",
       "1 January  1284 \n",
       "2 February 2099 \n",
       "3 March    2206 \n",
       "4 April    2925 \n",
       "5 May      3963 \n",
       "6 June     6076 \n",
       "7 July     3792 \n",
       "8 November  736 \n",
       "9 December 1044 "
      ]
     },
     "metadata": {},
     "output_type": "display_data"
    }
   ],
   "source": [
    "result1<-sqldf(\"select CUSTOMER_KEY from order1 group by CUSTOMER_KEY having count(CUSTOMER_KEY)>1\")\n",
    "result2<-sqldf(\"select Month, count(CUSTOMER_KEY) as COUNT from order1 where CUSTOMER_KEY in result1 group by Month order by Monthno\")\n",
    "result2$Month<-factor(result2$Month,levels=(unique(result2$Month)))\n",
    "result2"
   ]
  },
  {
   "cell_type": "code",
   "execution_count": 25,
   "metadata": {},
   "outputs": [
    {
     "data": {},
     "metadata": {},
     "output_type": "display_data"
    },
    {
     "data": {
      "image/png": "[encoded data removed]",
      "text/plain": [
       "plot without title"
      ]
     },
     "metadata": {},
     "output_type": "display_data"
    }
   ],
   "source": [
    "p<-ggplot(data = result2,aes(x=Month,y=COUNT))\n",
    "p+geom_bar(stat=\"identity\", colour=\"white\", fill=\"brown\")"
   ]
  },
  {
   "cell_type": "markdown",
   "metadata": {},
   "source": [
    "### For New customers"
   ]
  },
  {
   "cell_type": "code",
   "execution_count": 33,
   "metadata": {},
   "outputs": [
    {
     "data": {
      "text/html": [
       "<table>\n",
       "<thead><tr><th scope=col>Month</th><th scope=col>COUNT</th></tr></thead>\n",
       "<tbody>\n",
       "\t<tr><td>January </td><td> 176    </td></tr>\n",
       "\t<tr><td>February</td><td> 311    </td></tr>\n",
       "\t<tr><td>March   </td><td> 324    </td></tr>\n",
       "\t<tr><td>April   </td><td> 699    </td></tr>\n",
       "\t<tr><td>May     </td><td> 747    </td></tr>\n",
       "\t<tr><td>June    </td><td>1709    </td></tr>\n",
       "\t<tr><td>July    </td><td>1449    </td></tr>\n",
       "\t<tr><td>November</td><td>  15    </td></tr>\n",
       "\t<tr><td>December</td><td>  61    </td></tr>\n",
       "</tbody>\n",
       "</table>\n"
      ],
      "text/latex": [
       "\\begin{tabular}{r|ll}\n",
       " Month & COUNT\\\\\n",
       "\\hline\n",
       "\t January  &  176    \\\\\n",
       "\t February &  311    \\\\\n",
       "\t March    &  324    \\\\\n",
       "\t April    &  699    \\\\\n",
       "\t May      &  747    \\\\\n",
       "\t June     & 1709    \\\\\n",
       "\t July     & 1449    \\\\\n",
       "\t November &   15    \\\\\n",
       "\t December &   61    \\\\\n",
       "\\end{tabular}\n"
      ],
      "text/markdown": [
       "\n",
       "Month | COUNT | \n",
       "|---|---|---|---|---|---|---|---|---|\n",
       "| January  |  176     | \n",
       "| February |  311     | \n",
       "| March    |  324     | \n",
       "| April    |  699     | \n",
       "| May      |  747     | \n",
       "| June     | 1709     | \n",
       "| July     | 1449     | \n",
       "| November |   15     | \n",
       "| December |   61     | \n",
       "\n",
       "\n"
      ],
      "text/plain": [
       "  Month    COUNT\n",
       "1 January   176 \n",
       "2 February  311 \n",
       "3 March     324 \n",
       "4 April     699 \n",
       "5 May       747 \n",
       "6 June     1709 \n",
       "7 July     1449 \n",
       "8 November   15 \n",
       "9 December   61 "
      ]
     },
     "metadata": {},
     "output_type": "display_data"
    }
   ],
   "source": [
    "result1<-sqldf(\"select CUSTOMER_KEY from order1 group by CUSTOMER_KEY having count(CUSTOMER_KEY)=1\")\n",
    "result2<-sqldf(\"select Month, count(CUSTOMER_KEY) as COUNT from order1 where CUSTOMER_KEY in result1 group by Month order by Monthno\")\n",
    "result2$Month<-factor(result2$Month,levels=(unique(result2$Month)))\n",
    "result2"
   ]
  },
  {
   "cell_type": "code",
   "execution_count": 27,
   "metadata": {},
   "outputs": [
    {
     "data": {},
     "metadata": {},
     "output_type": "display_data"
    },
    {
     "data": {
      "image/png": "[encoded data removed]",
      "text/plain": [
       "plot without title"
      ]
     },
     "metadata": {},
     "output_type": "display_data"
    }
   ],
   "source": [
    "p<-ggplot(data = result2,aes(x=Month,y=COUNT))\n",
    "p+geom_bar(stat=\"identity\", colour=\"blue\", fill=\"grey\")"
   ]
  },
  {
   "cell_type": "markdown",
   "metadata": {},
   "source": [
    "## Q. 6 Month-wise split of number of new and repeat orders placed"
   ]
  },
  {
   "cell_type": "markdown",
   "metadata": {},
   "source": [
    "### Repeat orders"
   ]
  },
  {
   "cell_type": "code",
   "execution_count": 29,
   "metadata": {},
   "outputs": [
    {
     "data": {
      "text/html": [
       "<table>\n",
       "<thead><tr><th scope=col>Month</th><th scope=col>COUNT</th></tr></thead>\n",
       "<tbody>\n",
       "</tbody>\n",
       "</table>\n"
      ],
      "text/latex": [
       "\\begin{tabular}{r|ll}\n",
       " Month & COUNT\\\\\n",
       "\\hline\n",
       "\\end{tabular}\n"
      ],
      "text/markdown": [
       "\n",
       "Month | COUNT | \n",
       "||\n",
       "\n",
       "\n"
      ],
      "text/plain": [
       "     Month COUNT"
      ]
     },
     "metadata": {},
     "output_type": "display_data"
    },
    {
     "name": "stdout",
     "output_type": "stream",
     "text": [
      "[1] \"No Repeat Orders\"\n"
     ]
    }
   ],
   "source": [
    "result1<-sqldf(\"select ORDER_NUMBER from order1 group by ORDER_NUMBER having count(ORDER_NUMBER)>1\")\n",
    "result2<-sqldf(\"select Month, count(ORDER_NUMBER) as COUNT from order1 where ORDER_NUMBER in result1 group by Month order by Monthno\")\n",
    "result2\n",
    "print(\"No Repeat Orders\")"
   ]
  },
  {
   "cell_type": "markdown",
   "metadata": {},
   "source": [
    "### New orders"
   ]
  },
  {
   "cell_type": "code",
   "execution_count": 32,
   "metadata": {},
   "outputs": [
    {
     "data": {
      "text/html": [
       "<table>\n",
       "<thead><tr><th scope=col>Month</th><th scope=col>COUNT</th></tr></thead>\n",
       "<tbody>\n",
       "\t<tr><td>January </td><td>1460    </td></tr>\n",
       "\t<tr><td>February</td><td>2410    </td></tr>\n",
       "\t<tr><td>March   </td><td>2530    </td></tr>\n",
       "\t<tr><td>April   </td><td>3624    </td></tr>\n",
       "\t<tr><td>May     </td><td>4710    </td></tr>\n",
       "\t<tr><td>June    </td><td>7785    </td></tr>\n",
       "\t<tr><td>July    </td><td>5241    </td></tr>\n",
       "\t<tr><td>November</td><td> 751    </td></tr>\n",
       "\t<tr><td>December</td><td>1105    </td></tr>\n",
       "</tbody>\n",
       "</table>\n"
      ],
      "text/latex": [
       "\\begin{tabular}{r|ll}\n",
       " Month & COUNT\\\\\n",
       "\\hline\n",
       "\t January  & 1460    \\\\\n",
       "\t February & 2410    \\\\\n",
       "\t March    & 2530    \\\\\n",
       "\t April    & 3624    \\\\\n",
       "\t May      & 4710    \\\\\n",
       "\t June     & 7785    \\\\\n",
       "\t July     & 5241    \\\\\n",
       "\t November &  751    \\\\\n",
       "\t December & 1105    \\\\\n",
       "\\end{tabular}\n"
      ],
      "text/markdown": [
       "\n",
       "Month | COUNT | \n",
       "|---|---|---|---|---|---|---|---|---|\n",
       "| January  | 1460     | \n",
       "| February | 2410     | \n",
       "| March    | 2530     | \n",
       "| April    | 3624     | \n",
       "| May      | 4710     | \n",
       "| June     | 7785     | \n",
       "| July     | 5241     | \n",
       "| November |  751     | \n",
       "| December | 1105     | \n",
       "\n",
       "\n"
      ],
      "text/plain": [
       "  Month    COUNT\n",
       "1 January  1460 \n",
       "2 February 2410 \n",
       "3 March    2530 \n",
       "4 April    3624 \n",
       "5 May      4710 \n",
       "6 June     7785 \n",
       "7 July     5241 \n",
       "8 November  751 \n",
       "9 December 1105 "
      ]
     },
     "metadata": {},
     "output_type": "display_data"
    }
   ],
   "source": [
    "result1<-sqldf(\"select ORDER_NUMBER from order1 group by ORDER_NUMBER having count(ORDER_NUMBER)=1\")\n",
    "result2<-sqldf(\"select Month, count(ORDER_NUMBER) as COUNT from order1 where ORDER_NUMBER in result1 group by Month order by Monthno\")\n",
    "result2$Month<-factor(result2$Month,levels=(unique(result2$Month)))\n",
    "result2"
   ]
  },
  {
   "cell_type": "code",
   "execution_count": 31,
   "metadata": {},
   "outputs": [
    {
     "data": {},
     "metadata": {},
     "output_type": "display_data"
    },
    {
     "data": {
      "image/png": "[encoded data removed]",
      "text/plain": [
       "plot without title"
      ]
     },
     "metadata": {},
     "output_type": "display_data"
    }
   ],
   "source": [
    "p<-ggplot(data = result2,aes(x=Month,y=COUNT))\n",
    "p+geom_bar(stat=\"identity\", colour=\"blue\", fill=\"yellow\")"
   ]
  },
  {
   "cell_type": "markdown",
   "metadata": {},
   "source": [
    "## Q. 7 Cohort wise retention of customers on volume basis (i.e. of total customers acquired in Jan'16, how many transacted over the months in Feb, March, April,..., Nov, Dec'16)"
   ]
  },
  {
   "cell_type": "code",
   "execution_count": 44,
   "metadata": {},
   "outputs": [
    {
     "name": "stderr",
     "output_type": "stream",
     "text": [
      "Warning message in order2$Month == c(\"November\", \"December\"):\n",
      "\"longer object length is not a multiple of shorter object length\""
     ]
    }
   ],
   "source": [
    "order2<-order1\n",
    "order2<-order2[which(order2$Month==c('November','December','January')),]\n",
    "beforejan<-order2[-which(order2$Month==c('November','December')),\"CUSTOMER_KEY\"]\n",
    "beforejan<-as.data.frame(unique(beforejan))"
   ]
  },
  {
   "cell_type": "code",
   "execution_count": 45,
   "metadata": {},
   "outputs": [],
   "source": [
    "order2<-order1\n",
    "order2<-order2[which(order2$Year==2016),]\n",
    "order2<-order2[-which(order2$Month==\"January\"),]"
   ]
  },
  {
   "cell_type": "code",
   "execution_count": 49,
   "metadata": {},
   "outputs": [
    {
     "data": {
      "text/html": [
       "<table>\n",
       "<thead><tr><th scope=col>Month</th><th scope=col>RETAINED_COUNT</th></tr></thead>\n",
       "<tbody>\n",
       "\t<tr><td>February</td><td>508     </td></tr>\n",
       "\t<tr><td>March   </td><td>121     </td></tr>\n",
       "\t<tr><td>April   </td><td>130     </td></tr>\n",
       "\t<tr><td>May     </td><td>169     </td></tr>\n",
       "\t<tr><td>June    </td><td>307     </td></tr>\n",
       "\t<tr><td>July    </td><td>205     </td></tr>\n",
       "</tbody>\n",
       "</table>\n"
      ],
      "text/latex": [
       "\\begin{tabular}{r|ll}\n",
       " Month & RETAINED\\_COUNT\\\\\n",
       "\\hline\n",
       "\t February & 508     \\\\\n",
       "\t March    & 121     \\\\\n",
       "\t April    & 130     \\\\\n",
       "\t May      & 169     \\\\\n",
       "\t June     & 307     \\\\\n",
       "\t July     & 205     \\\\\n",
       "\\end{tabular}\n"
      ],
      "text/markdown": [
       "\n",
       "Month | RETAINED_COUNT | \n",
       "|---|---|---|---|---|---|\n",
       "| February | 508      | \n",
       "| March    | 121      | \n",
       "| April    | 130      | \n",
       "| May      | 169      | \n",
       "| June     | 307      | \n",
       "| July     | 205      | \n",
       "\n",
       "\n"
      ],
      "text/plain": [
       "  Month    RETAINED_COUNT\n",
       "1 February 508           \n",
       "2 March    121           \n",
       "3 April    130           \n",
       "4 May      169           \n",
       "5 June     307           \n",
       "6 July     205           "
      ]
     },
     "metadata": {},
     "output_type": "display_data"
    }
   ],
   "source": [
    "result1<-sqldf(\"select Month, Monthno,count(CUSTOMER_KEY) as RETAINED_COUNT from order2 where CUSTOMER_KEY in beforejan group by Month order by Monthno\")\n",
    "result1$Month<-factor(result1$Month, levels = result1[order(result1$Monthno),1])\n",
    "result1[,-2]"
   ]
  },
  {
   "cell_type": "code",
   "execution_count": 50,
   "metadata": {},
   "outputs": [
    {
     "data": {},
     "metadata": {},
     "output_type": "display_data"
    },
    {
     "data": {
      "image/png": "[encoded data removed]",
      "text/plain": [
       "plot without title"
      ]
     },
     "metadata": {},
     "output_type": "display_data"
    }
   ],
   "source": [
    "p<-ggplot(data = result1,aes(x=Month,y=RETAINED_COUNT))\n",
    "p+geom_bar(stat=\"identity\", colour=\"blue\", fill=\"red\")"
   ]
  },
  {
   "cell_type": "markdown",
   "metadata": {},
   "source": [
    "## Q. 8 Split of order status by month"
   ]
  },
  {
   "cell_type": "code",
   "execution_count": 51,
   "metadata": {},
   "outputs": [],
   "source": [
    "r1<-sqldf(\"select Month,count(ORDER_STATUS) as DELIVERED from order1 where ORDER_STATUS='Delivered' group by Month\")\n",
    "r2<-sqldf(\"select Month,count(ORDER_STATUS) as CANCELLED from order1 where ORDER_STATUS='Cancelled' group by Month\")\n",
    "r3<-sqldf(\"select Month,count(ORDER_STATUS) as CREATED from order1 where ORDER_STATUS='Created' group by Month\")\n",
    "r4<-sqldf(\"select Month,count(ORDER_STATUS) as PACKAGED from order1 where ORDER_STATUS='Packaged' group by Month\")"
   ]
  },
  {
   "cell_type": "code",
   "execution_count": 52,
   "metadata": {},
   "outputs": [],
   "source": [
    "result1<-merge(r1,r2,by=\"Month\",all.x = TRUE)\n",
    "result1<-merge(result1,r3,by=\"Month\",all.x = TRUE)\n",
    "result1<-merge(result1,r4,by=\"Month\",all.x = TRUE)"
   ]
  },
  {
   "cell_type": "code",
   "execution_count": 54,
   "metadata": {},
   "outputs": [
    {
     "data": {
      "text/html": [
       "<table>\n",
       "<thead><tr><th scope=col>Month</th><th scope=col>DELIVERED</th><th scope=col>CANCELLED</th><th scope=col>CREATED</th><th scope=col>PACKAGED</th></tr></thead>\n",
       "<tbody>\n",
       "\t<tr><td>April   </td><td>3620    </td><td> 4      </td><td>0       </td><td>0       </td></tr>\n",
       "\t<tr><td>December</td><td>1098    </td><td> 7      </td><td>0       </td><td>0       </td></tr>\n",
       "\t<tr><td>February</td><td>2348    </td><td>62      </td><td>0       </td><td>0       </td></tr>\n",
       "\t<tr><td>January </td><td>1460    </td><td> 0      </td><td>0       </td><td>0       </td></tr>\n",
       "\t<tr><td>July    </td><td>5214    </td><td>24      </td><td>1       </td><td>2       </td></tr>\n",
       "\t<tr><td>June    </td><td>7758    </td><td>27      </td><td>0       </td><td>0       </td></tr>\n",
       "\t<tr><td>March   </td><td>2521    </td><td> 9      </td><td>0       </td><td>0       </td></tr>\n",
       "\t<tr><td>May     </td><td>4691    </td><td>19      </td><td>0       </td><td>0       </td></tr>\n",
       "\t<tr><td>November</td><td> 742    </td><td> 9      </td><td>0       </td><td>0       </td></tr>\n",
       "</tbody>\n",
       "</table>\n"
      ],
      "text/latex": [
       "\\begin{tabular}{r|lllll}\n",
       " Month & DELIVERED & CANCELLED & CREATED & PACKAGED\\\\\n",
       "\\hline\n",
       "\t April    & 3620     &  4       & 0        & 0       \\\\\n",
       "\t December & 1098     &  7       & 0        & 0       \\\\\n",
       "\t February & 2348     & 62       & 0        & 0       \\\\\n",
       "\t January  & 1460     &  0       & 0        & 0       \\\\\n",
       "\t July     & 5214     & 24       & 1        & 2       \\\\\n",
       "\t June     & 7758     & 27       & 0        & 0       \\\\\n",
       "\t March    & 2521     &  9       & 0        & 0       \\\\\n",
       "\t May      & 4691     & 19       & 0        & 0       \\\\\n",
       "\t November &  742     &  9       & 0        & 0       \\\\\n",
       "\\end{tabular}\n"
      ],
      "text/markdown": [
       "\n",
       "Month | DELIVERED | CANCELLED | CREATED | PACKAGED | \n",
       "|---|---|---|---|---|---|---|---|---|\n",
       "| April    | 3620     |  4       | 0        | 0        | \n",
       "| December | 1098     |  7       | 0        | 0        | \n",
       "| February | 2348     | 62       | 0        | 0        | \n",
       "| January  | 1460     |  0       | 0        | 0        | \n",
       "| July     | 5214     | 24       | 1        | 2        | \n",
       "| June     | 7758     | 27       | 0        | 0        | \n",
       "| March    | 2521     |  9       | 0        | 0        | \n",
       "| May      | 4691     | 19       | 0        | 0        | \n",
       "| November |  742     |  9       | 0        | 0        | \n",
       "\n",
       "\n"
      ],
      "text/plain": [
       "  Month    DELIVERED CANCELLED CREATED PACKAGED\n",
       "1 April    3620       4        0       0       \n",
       "2 December 1098       7        0       0       \n",
       "3 February 2348      62        0       0       \n",
       "4 January  1460       0        0       0       \n",
       "5 July     5214      24        1       2       \n",
       "6 June     7758      27        0       0       \n",
       "7 March    2521       9        0       0       \n",
       "8 May      4691      19        0       0       \n",
       "9 November  742       9        0       0       "
      ]
     },
     "metadata": {},
     "output_type": "display_data"
    }
   ],
   "source": [
    "for(i in 2:5){\n",
    "  result1[which(is.na(result1[,i])),i]<-0\n",
    "}\n",
    "result1"
   ]
  },
  {
   "cell_type": "markdown",
   "metadata": {},
   "source": [
    "## Q. 9 Identify the dropped customers (that haven't ordered in the last 60 days) and segment them in categories so that they can be targeted differently. "
   ]
  },
  {
   "cell_type": "code",
   "execution_count": 55,
   "metadata": {},
   "outputs": [],
   "source": [
    "order2<-order1\n",
    "order2$DAY<-day(order2$ORDER_DATE)\n",
    "order2<-order2[order(-order2$Year,-order2$Monthno,-order2$DAY),]"
   ]
  },
  {
   "cell_type": "code",
   "execution_count": 56,
   "metadata": {},
   "outputs": [
    {
     "name": "stderr",
     "output_type": "stream",
     "text": [
      "Warning message in `==.default`(order2$ORDER_DATE, last60):\n",
      "\"longer object length is not a multiple of shorter object length\""
     ]
    }
   ],
   "source": [
    "last60<-head(unique(order2$ORDER_DATE),60)\n",
    "cust60<-order2[which(order2$ORDER_DATE==last60),2]"
   ]
  },
  {
   "cell_type": "code",
   "execution_count": 57,
   "metadata": {},
   "outputs": [
    {
     "name": "stderr",
     "output_type": "stream",
     "text": [
      "Warning message in is.na(e1) | is.na(e2):\n",
      "\"longer object length is not a multiple of shorter object length\"Warning message in `==.default`(order2$CUSTOMER_KEY, cust60):\n",
      "\"longer object length is not a multiple of shorter object length\""
     ]
    }
   ],
   "source": [
    "custnot60<-order2$CUSTOMER_KEY[-which(order2$CUSTOMER_KEY==cust60)]\n",
    "custnot60<-data.frame(custnot60)\n",
    "names(custnot60)[1]<-\"CUSTOMER_KEY\""
   ]
  },
  {
   "cell_type": "code",
   "execution_count": 58,
   "metadata": {},
   "outputs": [],
   "source": [
    "once<-sqldf(\"select CUSTOMER_KEY from custnot60 group by CUSTOMER_KEY having count(CUSTOMER_KEY)=1\")\n",
    "multiple<-sqldf(\"select CUSTOMER_KEY from custnot60 group by CUSTOMER_KEY having count(CUSTOMER_KEY)>1\")"
   ]
  },
  {
   "cell_type": "code",
   "execution_count": 60,
   "metadata": {},
   "outputs": [
    {
     "name": "stdout",
     "output_type": "stream",
     "text": [
      "[1] \"First 10 customer keys that do not appear in last 60 days. The keys in the first table occurs once and keys in the second table occurs multiple times\"\n"
     ]
    },
    {
     "data": {
      "text/html": [
       "<table>\n",
       "<thead><tr><th scope=col>CUSTOMER_KEY</th></tr></thead>\n",
       "<tbody>\n",
       "\t<tr><td>C100001</td></tr>\n",
       "\t<tr><td>C100003</td></tr>\n",
       "\t<tr><td>C100004</td></tr>\n",
       "\t<tr><td>C100006</td></tr>\n",
       "\t<tr><td>C100007</td></tr>\n",
       "\t<tr><td>C100008</td></tr>\n",
       "\t<tr><td>C100012</td></tr>\n",
       "\t<tr><td>C100019</td></tr>\n",
       "\t<tr><td>C100023</td></tr>\n",
       "\t<tr><td>C100028</td></tr>\n",
       "</tbody>\n",
       "</table>\n"
      ],
      "text/latex": [
       "\\begin{tabular}{r|l}\n",
       " CUSTOMER\\_KEY\\\\\n",
       "\\hline\n",
       "\t C100001\\\\\n",
       "\t C100003\\\\\n",
       "\t C100004\\\\\n",
       "\t C100006\\\\\n",
       "\t C100007\\\\\n",
       "\t C100008\\\\\n",
       "\t C100012\\\\\n",
       "\t C100019\\\\\n",
       "\t C100023\\\\\n",
       "\t C100028\\\\\n",
       "\\end{tabular}\n"
      ],
      "text/markdown": [
       "\n",
       "CUSTOMER_KEY | \n",
       "|---|---|---|---|---|---|---|---|---|---|\n",
       "| C100001 | \n",
       "| C100003 | \n",
       "| C100004 | \n",
       "| C100006 | \n",
       "| C100007 | \n",
       "| C100008 | \n",
       "| C100012 | \n",
       "| C100019 | \n",
       "| C100023 | \n",
       "| C100028 | \n",
       "\n",
       "\n"
      ],
      "text/plain": [
       "   CUSTOMER_KEY\n",
       "1  C100001     \n",
       "2  C100003     \n",
       "3  C100004     \n",
       "4  C100006     \n",
       "5  C100007     \n",
       "6  C100008     \n",
       "7  C100012     \n",
       "8  C100019     \n",
       "9  C100023     \n",
       "10 C100028     "
      ]
     },
     "metadata": {},
     "output_type": "display_data"
    },
    {
     "data": {
      "text/html": [
       "<table>\n",
       "<thead><tr><th scope=col>CUSTOMER_KEY</th></tr></thead>\n",
       "<tbody>\n",
       "\t<tr><td>C100000</td></tr>\n",
       "\t<tr><td>C100002</td></tr>\n",
       "\t<tr><td>C100005</td></tr>\n",
       "\t<tr><td>C100009</td></tr>\n",
       "\t<tr><td>C100010</td></tr>\n",
       "\t<tr><td>C100011</td></tr>\n",
       "\t<tr><td>C100013</td></tr>\n",
       "\t<tr><td>C100014</td></tr>\n",
       "\t<tr><td>C100015</td></tr>\n",
       "\t<tr><td>C100016</td></tr>\n",
       "</tbody>\n",
       "</table>\n"
      ],
      "text/latex": [
       "\\begin{tabular}{r|l}\n",
       " CUSTOMER\\_KEY\\\\\n",
       "\\hline\n",
       "\t C100000\\\\\n",
       "\t C100002\\\\\n",
       "\t C100005\\\\\n",
       "\t C100009\\\\\n",
       "\t C100010\\\\\n",
       "\t C100011\\\\\n",
       "\t C100013\\\\\n",
       "\t C100014\\\\\n",
       "\t C100015\\\\\n",
       "\t C100016\\\\\n",
       "\\end{tabular}\n"
      ],
      "text/markdown": [
       "\n",
       "CUSTOMER_KEY | \n",
       "|---|---|---|---|---|---|---|---|---|---|\n",
       "| C100000 | \n",
       "| C100002 | \n",
       "| C100005 | \n",
       "| C100009 | \n",
       "| C100010 | \n",
       "| C100011 | \n",
       "| C100013 | \n",
       "| C100014 | \n",
       "| C100015 | \n",
       "| C100016 | \n",
       "\n",
       "\n"
      ],
      "text/plain": [
       "   CUSTOMER_KEY\n",
       "1  C100000     \n",
       "2  C100002     \n",
       "3  C100005     \n",
       "4  C100009     \n",
       "5  C100010     \n",
       "6  C100011     \n",
       "7  C100013     \n",
       "8  C100014     \n",
       "9  C100015     \n",
       "10 C100016     "
      ]
     },
     "metadata": {},
     "output_type": "display_data"
    }
   ],
   "source": [
    "print(\"First 10 customer keys that do not appear in last 60 days. The keys in the first table occurs once and keys in the second table occurs multiple times\")\n",
    "head(once,10)\n",
    "head(multiple,10)"
   ]
  },
  {
   "cell_type": "markdown",
   "metadata": {},
   "source": [
    "## Q. 10 Any other useful insights -  Top 10 customers based on number of orders placed"
   ]
  },
  {
   "cell_type": "code",
   "execution_count": 61,
   "metadata": {},
   "outputs": [
    {
     "data": {
      "text/html": [
       "<table>\n",
       "<thead><tr><th scope=col>CUSTOMER_KEY</th><th scope=col>COUNT</th></tr></thead>\n",
       "<tbody>\n",
       "\t<tr><td>C10373 </td><td>63     </td></tr>\n",
       "\t<tr><td>C10115 </td><td>40     </td></tr>\n",
       "\t<tr><td>C10041 </td><td>34     </td></tr>\n",
       "\t<tr><td>C10465 </td><td>33     </td></tr>\n",
       "\t<tr><td>C10348 </td><td>32     </td></tr>\n",
       "\t<tr><td>C10146 </td><td>31     </td></tr>\n",
       "\t<tr><td>C10201 </td><td>30     </td></tr>\n",
       "\t<tr><td>C10067 </td><td>29     </td></tr>\n",
       "\t<tr><td>C100755</td><td>27     </td></tr>\n",
       "\t<tr><td>C10217 </td><td>26     </td></tr>\n",
       "</tbody>\n",
       "</table>\n"
      ],
      "text/latex": [
       "\\begin{tabular}{r|ll}\n",
       " CUSTOMER\\_KEY & COUNT\\\\\n",
       "\\hline\n",
       "\t C10373  & 63     \\\\\n",
       "\t C10115  & 40     \\\\\n",
       "\t C10041  & 34     \\\\\n",
       "\t C10465  & 33     \\\\\n",
       "\t C10348  & 32     \\\\\n",
       "\t C10146  & 31     \\\\\n",
       "\t C10201  & 30     \\\\\n",
       "\t C10067  & 29     \\\\\n",
       "\t C100755 & 27     \\\\\n",
       "\t C10217  & 26     \\\\\n",
       "\\end{tabular}\n"
      ],
      "text/markdown": [
       "\n",
       "CUSTOMER_KEY | COUNT | \n",
       "|---|---|---|---|---|---|---|---|---|---|\n",
       "| C10373  | 63      | \n",
       "| C10115  | 40      | \n",
       "| C10041  | 34      | \n",
       "| C10465  | 33      | \n",
       "| C10348  | 32      | \n",
       "| C10146  | 31      | \n",
       "| C10201  | 30      | \n",
       "| C10067  | 29      | \n",
       "| C100755 | 27      | \n",
       "| C10217  | 26      | \n",
       "\n",
       "\n"
      ],
      "text/plain": [
       "   CUSTOMER_KEY COUNT\n",
       "1  C10373       63   \n",
       "2  C10115       40   \n",
       "3  C10041       34   \n",
       "4  C10465       33   \n",
       "5  C10348       32   \n",
       "6  C10146       31   \n",
       "7  C10201       30   \n",
       "8  C10067       29   \n",
       "9  C100755      27   \n",
       "10 C10217       26   "
      ]
     },
     "metadata": {},
     "output_type": "display_data"
    }
   ],
   "source": [
    "result1<-sqldf(\"select CUSTOMER_KEY, count(CUSTOMER_KEY) as COUNT from order1 group by CUSTOMER_KEY having count(CUSTOMER_KEY)>1 order by COUNT desc\")\n",
    "head(result1,10)"
   ]
  }
 ],
 "metadata": {
  "kernelspec": {
   "display_name": "R",
   "language": "R",
   "name": "ir"
  },
  "language_info": {
   "codemirror_mode": "r",
   "file_extension": ".r",
   "mimetype": "text/x-r-source",
   "name": "R",
   "pygments_lexer": "r",
   "version": "3.3.2"
  }
 },
 "nbformat": 4,
 "nbformat_minor": 2
}
